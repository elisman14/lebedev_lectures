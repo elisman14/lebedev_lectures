{
 "cells": [
  {
   "cell_type": "code",
   "execution_count": 6,
   "metadata": {},
   "outputs": [],
   "source": [
    "def wraps(func):\n",
    "    def decorator(inner_func):\n",
    "        def inner(*args, **kwargs):\n",
    "            return inner_func(*args, **kwargs)\n",
    "\n",
    "        inner.__name__ = func.__name__  \n",
    "        inner.__module__ = func.__module__\n",
    "        inner.__doc__ = func.__doc__\n",
    "        return inner            \n",
    "    return decorator\n"
   ]
  },
  {
   "cell_type": "code",
   "execution_count": 7,
   "metadata": {},
   "outputs": [],
   "source": [
    "import functools\n",
    "\n",
    "\n",
    "def with_arguments(deco):\n",
    "    \n",
    "    @wraps(deco)\n",
    "    def wrapper(*dargs, **dkwargs):\n",
    "        \n",
    "        def decorator(func):\n",
    "            result = deco(func, *dargs, **dkwargs)\n",
    "            functools.update_wrapper(result, func)\n",
    "            return result\n",
    "        \n",
    "        return decorator\n",
    "    \n",
    "    return wrapper"
   ]
  },
  {
   "cell_type": "code",
   "execution_count": 10,
   "metadata": {},
   "outputs": [
    {
     "data": {
      "text/plain": [
       "'I do nothing useful.'"
      ]
     },
     "execution_count": 10,
     "metadata": {},
     "output_type": "execute_result"
    }
   ],
   "source": [
    "import sys\n",
    "\n",
    "\n",
    "def trace(func=None, *, handle=sys.stdout): \n",
    "    \n",
    "    if func is None:\n",
    "        return lambda func: trace(func, handle=handle)\n",
    "    \n",
    "    @wraps(func)\n",
    "    def inner(*args, **kwargs):\n",
    "        print(func.__doc__, func.__name__, args, kwargs)\n",
    "        return func(*args, **kwargs)\n",
    "    \n",
    "    return inner\n",
    "\n",
    "@trace(handle=sys.stderr)\n",
    "def identity(x):\n",
    "    \"\"\"I do nothing useful.\"\"\"\n",
    "    return x\n",
    "\n",
    "# identity(42)\n",
    "identity.__doc__\n",
    "#print(identity.__doc__)\n"
   ]
  },
  {
   "cell_type": "code",
   "execution_count": 19,
   "metadata": {},
   "outputs": [
    {
     "name": "stdout",
     "output_type": "stream",
     "text": [
      "sum ... 1.9999788491986692e-07\n"
     ]
    }
   ],
   "source": [
    "import time\n",
    "\n",
    "\n",
    "def timethis(func=None, *, n_iter=100):\n",
    "    if func is None:\n",
    "        return lambda func: timethis(func, n_iter=n_iter)\n",
    "    \n",
    "    @wraps(func)\n",
    "    def inner(*args, **kwargs):\n",
    "        print(func.__name__, end=\" ... \")\n",
    "        acc = float(\"inf\")\n",
    "        for i in range(n_iter):\n",
    "            tick = time.perf_counter()\n",
    "            result = func(*args, **kwargs)\n",
    "            acc = min(acc, time.perf_counter() - tick)\n",
    "        print(acc)\n",
    "        return result\n",
    "    return inner\n",
    "\n",
    "result = timethis(sum)(range(10))"
   ]
  },
  {
   "cell_type": "code",
   "execution_count": 22,
   "metadata": {},
   "outputs": [
    {
     "data": {
      "text/plain": [
       "2"
      ]
     },
     "execution_count": 22,
     "metadata": {},
     "output_type": "execute_result"
    }
   ],
   "source": [
    "def profiled(func):\n",
    "    @wraps(func)\n",
    "    def inner(*args, **kwargs):\n",
    "        inner.ncalls += 1\n",
    "        return func(*args, **kwargs)\n",
    "    \n",
    "    inner.ncalls = 0\n",
    "    return inner\n",
    "\n",
    "@profiled\n",
    "def identity(x):\n",
    "    return x\n",
    "\n",
    "identity(1)\n",
    "identity(2)\n",
    "\n",
    "identity.ncalls"
   ]
  },
  {
   "cell_type": "code",
   "execution_count": 33,
   "metadata": {},
   "outputs": [
    {
     "name": "stdout",
     "output_type": "stream",
     "text": [
      "Settings initialized\n",
      "All is good\n"
     ]
    }
   ],
   "source": [
    "def once(func):\n",
    "    @wraps(func)\n",
    "    def inner(*args, **kwargs):\n",
    "        if not inner.called:\n",
    "            func(*args, **kwargs)\n",
    "            inner.called = True\n",
    "    inner.called = False\n",
    "    return inner\n",
    "\n",
    "@once\n",
    "def initialize_settings():\n",
    "    print(\"Settings initialized\")\n",
    "\n",
    "\n",
    "@once\n",
    "def is_all_good():\n",
    "    print(\"All is good\")\n",
    "\n",
    "initialize_settings()\n",
    "is_all_good()\n"
   ]
  },
  {
   "cell_type": "code",
   "execution_count": 34,
   "metadata": {},
   "outputs": [],
   "source": [
    "initialize_settings()\n",
    "is_all_good()"
   ]
  },
  {
   "cell_type": "code",
   "execution_count": 38,
   "metadata": {},
   "outputs": [
    {
     "data": {
      "text/plain": [
       "125"
      ]
     },
     "execution_count": 38,
     "metadata": {},
     "output_type": "execute_result"
    }
   ],
   "source": [
    "def memoized(func):\n",
    "    cache = {}\n",
    "\n",
    "    @wraps(func)\n",
    "    def inner(*args, **kwargs):\n",
    "        key = args, tuple(sorted(kwargs.items()))\n",
    "        if key not in cache:\n",
    "            cache[key] = func(*args, **kwargs)\n",
    "        return cache[key]\n",
    "    return inner\n",
    "\n",
    "@memoized\n",
    "def ackermann(m, n):\n",
    "    if not m:\n",
    "        return n + 1\n",
    "    elif not n:\n",
    "        return ackermann(m - 1, 1)\n",
    "    else:\n",
    "        return ackermann(m - 1, ackermann(m, n - 1))\n",
    "\n",
    "\n",
    "ackermann(3,4)"
   ]
  },
  {
   "cell_type": "code",
   "execution_count": 45,
   "metadata": {},
   "outputs": [],
   "source": [
    "import warnings\n",
    "def deprecated(func):\n",
    "    code = func.__code__\n",
    "    warnings.warn_explicit(\n",
    "        func.__name__ + \" is deprecated.\",\n",
    "        category=DeprecationWarning,\n",
    "        filename=code.co_filename,\n",
    "        lineno=code.co_firstlineno + 1\n",
    "    )\n",
    "    return func\n",
    "\n",
    "@deprecated\n",
    "def pass_func(x):\n",
    "    return x\n"
   ]
  },
  {
   "cell_type": "code",
   "execution_count": 60,
   "metadata": {},
   "outputs": [
    {
     "ename": "AssertionError",
     "evalue": "not a number",
     "output_type": "error",
     "traceback": [
      "\u001b[0;31m---------------------------------------------------------------------------\u001b[0m",
      "\u001b[0;31mAssertionError\u001b[0m                            Traceback (most recent call last)",
      "\u001b[1;32m/home/illojaa/code/learning/lebedev-course/lec3_decorators.ipynb Cell 10'\u001b[0m in \u001b[0;36m<cell line: 35>\u001b[0;34m()\u001b[0m\n\u001b[1;32m     <a href='vscode-notebook-cell://wsl%2Bubuntu/home/illojaa/code/learning/lebedev-course/lec3_decorators.ipynb#ch0000009vscode-remote?line=30'>31</a>\u001b[0m     \u001b[39mreturn\u001b[39;00m \u001b[39mfloat\u001b[39m(\u001b[39m\"\u001b[39m\u001b[39mnan\u001b[39m\u001b[39m\"\u001b[39m)\n\u001b[1;32m     <a href='vscode-notebook-cell://wsl%2Bubuntu/home/illojaa/code/learning/lebedev-course/lec3_decorators.ipynb#ch0000009vscode-remote?line=33'>34</a>\u001b[0m checked_log(\u001b[39m1\u001b[39m)\n\u001b[0;32m---> <a href='vscode-notebook-cell://wsl%2Bubuntu/home/illojaa/code/learning/lebedev-course/lec3_decorators.ipynb#ch0000009vscode-remote?line=34'>35</a>\u001b[0m something_useful()\n",
      "\u001b[1;32m/home/illojaa/code/learning/lebedev-course/lec3_decorators.ipynb Cell 1'\u001b[0m in \u001b[0;36mwraps.<locals>.decorator.<locals>.inner\u001b[0;34m(*args, **kwargs)\u001b[0m\n\u001b[1;32m      <a href='vscode-notebook-cell://wsl%2Bubuntu/home/illojaa/code/learning/lebedev-course/lec3_decorators.ipynb#ch0000000vscode-remote?line=2'>3</a>\u001b[0m \u001b[39mdef\u001b[39;00m \u001b[39minner\u001b[39m(\u001b[39m*\u001b[39margs, \u001b[39m*\u001b[39m\u001b[39m*\u001b[39mkwargs):\n\u001b[0;32m----> <a href='vscode-notebook-cell://wsl%2Bubuntu/home/illojaa/code/learning/lebedev-course/lec3_decorators.ipynb#ch0000000vscode-remote?line=3'>4</a>\u001b[0m     \u001b[39mreturn\u001b[39;00m inner_func(\u001b[39m*\u001b[39;49margs, \u001b[39m*\u001b[39;49m\u001b[39m*\u001b[39;49mkwargs)\n",
      "\u001b[1;32m/home/illojaa/code/learning/lebedev-course/lec3_decorators.ipynb Cell 10'\u001b[0m in \u001b[0;36mpost.<locals>.wrapper.<locals>.inner\u001b[0;34m(*args, **kwargs)\u001b[0m\n\u001b[1;32m     <a href='vscode-notebook-cell://wsl%2Bubuntu/home/illojaa/code/learning/lebedev-course/lec3_decorators.ipynb#ch0000009vscode-remote?line=15'>16</a>\u001b[0m \u001b[39m@wraps\u001b[39m(func)\n\u001b[1;32m     <a href='vscode-notebook-cell://wsl%2Bubuntu/home/illojaa/code/learning/lebedev-course/lec3_decorators.ipynb#ch0000009vscode-remote?line=16'>17</a>\u001b[0m \u001b[39mdef\u001b[39;00m \u001b[39minner\u001b[39m(\u001b[39m*\u001b[39margs, \u001b[39m*\u001b[39m\u001b[39m*\u001b[39mkwargs):\n\u001b[1;32m     <a href='vscode-notebook-cell://wsl%2Bubuntu/home/illojaa/code/learning/lebedev-course/lec3_decorators.ipynb#ch0000009vscode-remote?line=17'>18</a>\u001b[0m     result \u001b[39m=\u001b[39m func(\u001b[39m*\u001b[39margs, \u001b[39m*\u001b[39m\u001b[39m*\u001b[39mkwargs)\n\u001b[0;32m---> <a href='vscode-notebook-cell://wsl%2Bubuntu/home/illojaa/code/learning/lebedev-course/lec3_decorators.ipynb#ch0000009vscode-remote?line=18'>19</a>\u001b[0m     \u001b[39massert\u001b[39;00m cond(result), message\n\u001b[1;32m     <a href='vscode-notebook-cell://wsl%2Bubuntu/home/illojaa/code/learning/lebedev-course/lec3_decorators.ipynb#ch0000009vscode-remote?line=19'>20</a>\u001b[0m     \u001b[39mreturn\u001b[39;00m result\n",
      "\u001b[0;31mAssertionError\u001b[0m: not a number"
     ]
    }
   ],
   "source": [
    "import math\n",
    "\n",
    "\n",
    "def pre(cond, message):\n",
    "    def wrapper(func):\n",
    "        @wraps(func)\n",
    "        def inner(*args, **kwargs):\n",
    "            assert cond(*args, **kwargs), message\n",
    "            return func(*args, **kwargs)\n",
    "        return inner\n",
    "    return wrapper\n",
    "\n",
    "\n",
    "def post(cond, message):\n",
    "    def wrapper(func):\n",
    "        @wraps(func)\n",
    "        def inner(*args, **kwargs):\n",
    "            result = func(*args, **kwargs)\n",
    "            assert cond(result), message\n",
    "            return result\n",
    "        return inner\n",
    "    return wrapper \n",
    "\n",
    "@pre(lambda x: x >= 0, \"negative argument\")\n",
    "def checked_log(x):\n",
    "    return x\n",
    "\n",
    "\n",
    "@post(lambda x: not math.isnan(x), \"not a number\")\n",
    "def something_useful():\n",
    "    return float(\"nan\")\n",
    "\n",
    "\n",
    "checked_log(1)\n",
    "something_useful()\n"
   ]
  },
  {
   "cell_type": "code",
   "execution_count": 64,
   "metadata": {},
   "outputs": [
    {
     "data": {
      "text/plain": [
       "1936"
      ]
     },
     "execution_count": 64,
     "metadata": {},
     "output_type": "execute_result"
    }
   ],
   "source": [
    "def square(func):\n",
    "    return lambda x: func(x * x)\n",
    "\n",
    "\n",
    "def addsome(func):\n",
    "    return lambda x: func(x + 42)\n",
    "\n",
    "\n",
    "@addsome\n",
    "@square\n",
    "def identity(x):\n",
    "    return x\n",
    "\n",
    "identity(2)"
   ]
  }
 ],
 "metadata": {
  "interpreter": {
   "hash": "356eaede3572ca6cd0847253aac4133cda8267ce60aa4682055f3fd4000e1547"
  },
  "kernelspec": {
   "display_name": "Python 3.10.4 64-bit ('3.10.4')",
   "language": "python",
   "name": "python3"
  },
  "language_info": {
   "codemirror_mode": {
    "name": "ipython",
    "version": 3
   },
   "file_extension": ".py",
   "mimetype": "text/x-python",
   "name": "python",
   "nbconvert_exporter": "python",
   "pygments_lexer": "ipython3",
   "version": "3.10.4"
  },
  "orig_nbformat": 4
 },
 "nbformat": 4,
 "nbformat_minor": 2
}
