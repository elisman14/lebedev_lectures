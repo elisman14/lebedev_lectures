{
 "cells": [
  {
   "cell_type": "code",
   "execution_count": 8,
   "metadata": {},
   "outputs": [
    {
     "data": {
      "text/plain": [
       "[]"
      ]
     },
     "execution_count": 8,
     "metadata": {},
     "output_type": "execute_result"
    }
   ],
   "source": [
    "class Counter:\n",
    "    \"\"\"I count. That is all.\"\"\"\n",
    "    \n",
    "    some_attribute = 42\n",
    "    _internal_attribute = []\n",
    "    __very_internal_attribute = []\n",
    "\n",
    "\n",
    "    def __init__(self, initial=0):\n",
    "        self.value = initial\n",
    "    \n",
    "    \n",
    "    def increment(self):\n",
    "        self.value += 1\n",
    "    \n",
    "\n",
    "    def get(self):\n",
    "        return self.value\n",
    "\n",
    "c = Counter(42)\n",
    "c.increment()\n",
    "c.get()\n",
    "c.some_attribute\n",
    "c._internal_attribute\n",
    "Counter._Counter__very_internal_attribute\n"
   ]
  },
  {
   "cell_type": "code",
   "execution_count": 19,
   "metadata": {},
   "outputs": [
    {
     "name": "stdout",
     "output_type": "stream",
     "text": [
      "baz\n"
     ]
    },
    {
     "data": {
      "text/plain": [
       "deque(['baz', 'boo'])"
      ]
     },
     "execution_count": 19,
     "metadata": {},
     "output_type": "execute_result"
    }
   ],
   "source": [
    "from collections import deque\n",
    "\n",
    "class MemorizingDict(dict):\n",
    "    history = deque(maxlen=10)\n",
    "\n",
    "\n",
    "    def set (self, key, value):\n",
    "        self.history.append(key)\n",
    "        self[key] = value\n",
    "\n",
    "    \n",
    "    def get_history(self):\n",
    "        return self.history\n",
    "\n",
    "\n",
    "d = MemorizingDict({\"foo\": 42})\n",
    "d.set(\"baz\", 100500)\n",
    "print(d.get_history()[0])\n",
    "\n",
    "d = MemorizingDict()\n",
    "d.set(\"boo\", 500100)\n",
    "d.get_history()"
   ]
  },
  {
   "cell_type": "code",
   "execution_count": 1,
   "metadata": {},
   "outputs": [
    {
     "ename": "NameError",
     "evalue": "name 'Counter' is not defined",
     "output_type": "error",
     "traceback": [
      "\u001b[0;31m---------------------------------------------------------------------------\u001b[0m",
      "\u001b[0;31mNameError\u001b[0m                                 Traceback (most recent call last)",
      "\u001b[1;32m/home/illojaa/code/learning/lebedev-course/lec6_classes_pt_1.ipynb Cell 3'\u001b[0m in \u001b[0;36m<cell line: 1>\u001b[0;34m()\u001b[0m\n\u001b[0;32m----> <a href='vscode-notebook-cell://wsl%2Bubuntu/home/illojaa/code/learning/lebedev-course/lec6_classes_pt_1.ipynb#ch0000002vscode-remote?line=0'>1</a>\u001b[0m Counter\u001b[39m.\u001b[39m\u001b[39m__dict__\u001b[39m\n\u001b[1;32m      <a href='vscode-notebook-cell://wsl%2Bubuntu/home/illojaa/code/learning/lebedev-course/lec6_classes_pt_1.ipynb#ch0000002vscode-remote?line=1'>2</a>\u001b[0m Counter\u001b[39m.\u001b[39m\u001b[39m__class__\u001b[39m\n",
      "\u001b[0;31mNameError\u001b[0m: name 'Counter' is not defined"
     ]
    }
   ],
   "source": [
    "Counter.__dict__\n",
    "Counter.__class__"
   ]
  },
  {
   "cell_type": "code",
   "execution_count": 3,
   "metadata": {},
   "outputs": [],
   "source": [
    "class Noop:\n",
    "    __slots__ = [\"some_attribute\"]  #лучше NamedTuple\n",
    "\n",
    "noop = Noop()\n",
    "noop.some_attribute = 42\n",
    "#noop.some_other_attribute = 100500"
   ]
  },
  {
   "cell_type": "code",
   "execution_count": 7,
   "metadata": {},
   "outputs": [
    {
     "data": {
      "text/plain": [
       "Path(./tutorial/examples)"
      ]
     },
     "execution_count": 7,
     "metadata": {},
     "output_type": "execute_result"
    }
   ],
   "source": [
    "import os\n",
    "\n",
    "\n",
    "class Path:\n",
    "    def __init__(self, current):\n",
    "        self.current = current\n",
    "    \n",
    "    \n",
    "    def __repr__(self):\n",
    "        return \"Path({})\".format(self.current)\n",
    "\n",
    "    \n",
    "    @property\n",
    "    def parent(self):\n",
    "        return Path(os.path.dirname(self.current))\n",
    "\n",
    "\n",
    "p = Path(\"./tutorial/examples/some_file.txt\")\n",
    "p.parent"
   ]
  },
  {
   "cell_type": "code",
   "execution_count": 13,
   "metadata": {},
   "outputs": [
    {
     "data": {
      "text/plain": [
       "[0.1, 0.5, 0.4]"
      ]
     },
     "execution_count": 13,
     "metadata": {},
     "output_type": "execute_result"
    }
   ],
   "source": [
    "class BigDataModel:\n",
    "    def __init__(self):\n",
    "        self._params = []\n",
    "    \n",
    "\n",
    "    @property\n",
    "    def params(self):\n",
    "        return self._params\n",
    "    \n",
    "\n",
    "    @params.setter\n",
    "    def params(self, new_params):\n",
    "        assert all(map(lambda p: p > 0, new_params))\n",
    "        self._params = new_params\n",
    "\n",
    "    \n",
    "    @params.deleter\n",
    "    def params(self):\n",
    "        del self._params\n",
    "\n",
    "\n",
    "model = BigDataModel()\n",
    "model.params = [0.1, 0.5, 0.4]\n",
    "model.params"
   ]
  },
  {
   "cell_type": "code",
   "execution_count": 18,
   "metadata": {},
   "outputs": [
    {
     "data": {
      "text/plain": [
       "0"
      ]
     },
     "execution_count": 18,
     "metadata": {},
     "output_type": "execute_result"
    }
   ],
   "source": [
    "class Counter:\n",
    "    def __init__(self, initial=0):\n",
    "        self.value = initial\n",
    "\n",
    "\n",
    "class OtherCounter(Counter):\n",
    "    def get(self):\n",
    "        return self.value\n",
    "\n",
    "\n",
    "c = OtherCounter()\n",
    "c.get()\n",
    "c.value"
   ]
  },
  {
   "cell_type": "code",
   "execution_count": 20,
   "metadata": {},
   "outputs": [
    {
     "data": {
      "text/plain": [
       "{'initial': 0, 'value': 0}"
      ]
     },
     "execution_count": 20,
     "metadata": {},
     "output_type": "execute_result"
    }
   ],
   "source": [
    "class Temp:\n",
    "    all_counters = []\n",
    "\n",
    "\n",
    "    def __init__(self, initial=0):\n",
    "        self.__class__.all_counters.append(self)\n",
    "        self.value = initial\n",
    "\n",
    "\n",
    "class OtherTemp(Temp):\n",
    "    def __init__(self, initial=0):\n",
    "        self.initial = initial\n",
    "        super().__init__(initial)\n",
    "\n",
    "ot = OtherTemp()\n",
    "vars(ot)"
   ]
  },
  {
   "cell_type": "code",
   "execution_count": 25,
   "metadata": {},
   "outputs": [
    {
     "data": {
      "text/plain": [
       "True"
      ]
     },
     "execution_count": 25,
     "metadata": {},
     "output_type": "execute_result"
    }
   ],
   "source": [
    "isinstance(OtherCounter(), Counter)  #проверка экземпляра\n",
    "issubclass(OtherCounter, Counter)    #проверка наследника\n"
   ]
  },
  {
   "cell_type": "code",
   "execution_count": 26,
   "metadata": {},
   "outputs": [],
   "source": [
    "class ThreadSafeMixin:\n",
    "    get_lock = ...\n",
    "\n",
    "\n",
    "    def increment(self):\n",
    "        with self.get_lock():\n",
    "            super().increment()\n",
    "\n",
    "    \n",
    "    def get(self):\n",
    "        with self.get_lock():\n",
    "            return super().get()\n",
    "\n",
    "\n",
    "class ThreadSafeCounter(ThreadSafeMixin, Counter):\n",
    "    pass"
   ]
  },
  {
   "cell_type": "code",
   "execution_count": 27,
   "metadata": {},
   "outputs": [],
   "source": [
    "def thread_safe(cls):\n",
    "    orig_increment = cls.increment\n",
    "    orig_get = cls.get\n",
    "\n",
    "    def increment(self):\n",
    "        with self.get_lock():\n",
    "            orig_increment(self)\n",
    "\n",
    "    \n",
    "    def get(self):\n",
    "        with self.get_lock():\n",
    "            return orig_get(self)\n",
    "\n",
    "    \n",
    "    cls.get_lock = ...\n",
    "    cls.increment = increment\n",
    "    cls.get = get\n",
    "    return cls"
   ]
  },
  {
   "cell_type": "code",
   "execution_count": 35,
   "metadata": {},
   "outputs": [
    {
     "name": "stdout",
     "output_type": "stream",
     "text": [
      "140356178382224 140356178382224\n"
     ]
    }
   ],
   "source": [
    "import functools\n",
    "\n",
    "\n",
    "def singleton(cls):\n",
    "    instance = None\n",
    "\n",
    "    @functools.wraps(cls)\n",
    "    def inner(*args, **kwargs):\n",
    "        nonlocal instance\n",
    "        if instance is None:\n",
    "            instance = cls(*args, **kwargs)\n",
    "        return instance\n",
    "\n",
    "    return inner\n",
    "\n",
    "@singleton\n",
    "class Noop:\n",
    "    \"I do noting at all.\"\n",
    "\n",
    "\n",
    "print(id(Noop()), id(Noop()))\n"
   ]
  },
  {
   "cell_type": "code",
   "execution_count": 39,
   "metadata": {},
   "outputs": [
    {
     "name": "stderr",
     "output_type": "stream",
     "text": [
      "/tmp/ipykernel_420/1536756259.py:9: DeprecationWarning: Counter is deprecated.\n",
      "  warnings.warn(\n"
     ]
    }
   ],
   "source": [
    "import warnings\n",
    "\n",
    "\n",
    "def deprecated(cls):\n",
    "    orig_init = cls.__init__\n",
    "\n",
    "    @functools.wraps(cls.__init__)\n",
    "    def new_init(self, *args, **kwargs):\n",
    "        warnings.warn(\n",
    "            cls.__name__ + \" is deprecated.\",\n",
    "            category=DeprecationWarning)\n",
    "        orig_init(self, *args, **kwargs)\n",
    "    \n",
    "    cls.__init__ = new_init\n",
    "    return cls\n",
    "\n",
    "\n",
    "@deprecated\n",
    "class Counter:\n",
    "    def __init__(self, initial=0):\n",
    "        self.value = initial\n",
    "\n",
    "\n",
    "c = Counter()"
   ]
  },
  {
   "cell_type": "code",
   "execution_count": 41,
   "metadata": {},
   "outputs": [
    {
     "ename": "AttributeError",
     "evalue": "'Noop' object has no attribute 'foobar'",
     "output_type": "error",
     "traceback": [
      "\u001b[0;31m---------------------------------------------------------------------------\u001b[0m",
      "\u001b[0;31mAttributeError\u001b[0m                            Traceback (most recent call last)",
      "\u001b[1;32m/home/illojaa/code/learning/lebedev-course/lec6_classes_pt_1.ipynb Cell 14'\u001b[0m in \u001b[0;36m<cell line: 4>\u001b[0;34m()\u001b[0m\n\u001b[1;32m      <a href='vscode-notebook-cell://wsl%2Bubuntu/home/illojaa/code/learning/lebedev-course/lec6_classes_pt_1.ipynb#ch0000013vscode-remote?line=0'>1</a>\u001b[0m \u001b[39mclass\u001b[39;00m \u001b[39mNoop\u001b[39;00m:\n\u001b[1;32m      <a href='vscode-notebook-cell://wsl%2Bubuntu/home/illojaa/code/learning/lebedev-course/lec6_classes_pt_1.ipynb#ch0000013vscode-remote?line=1'>2</a>\u001b[0m     \u001b[39mpass\u001b[39;00m\n\u001b[0;32m----> <a href='vscode-notebook-cell://wsl%2Bubuntu/home/illojaa/code/learning/lebedev-course/lec6_classes_pt_1.ipynb#ch0000013vscode-remote?line=3'>4</a>\u001b[0m Noop()\u001b[39m.\u001b[39;49mfoobar\n",
      "\u001b[0;31mAttributeError\u001b[0m: 'Noop' object has no attribute 'foobar'"
     ]
    }
   ],
   "source": [
    "class Noop:\n",
    "    pass\n",
    "\n",
    "Noop().foobar"
   ]
  },
  {
   "cell_type": "code",
   "execution_count": 42,
   "metadata": {},
   "outputs": [
    {
     "data": {
      "text/plain": [
       "'foobar'"
      ]
     },
     "execution_count": 42,
     "metadata": {},
     "output_type": "execute_result"
    }
   ],
   "source": [
    "class Noop:\n",
    "    def __getattr__(self, name):\n",
    "        return name\n",
    "\n",
    "Noop().foobar"
   ]
  }
 ],
 "metadata": {
  "interpreter": {
   "hash": "356eaede3572ca6cd0847253aac4133cda8267ce60aa4682055f3fd4000e1547"
  },
  "kernelspec": {
   "display_name": "Python 3.10.4 64-bit ('3.10.4')",
   "language": "python",
   "name": "python3"
  },
  "language_info": {
   "codemirror_mode": {
    "name": "ipython",
    "version": 3
   },
   "file_extension": ".py",
   "mimetype": "text/x-python",
   "name": "python",
   "nbconvert_exporter": "python",
   "pygments_lexer": "ipython3",
   "version": "3.10.4"
  },
  "orig_nbformat": 4
 },
 "nbformat": 4,
 "nbformat_minor": 2
}
