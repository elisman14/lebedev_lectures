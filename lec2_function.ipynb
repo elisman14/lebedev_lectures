{
 "cells": [
  {
   "cell_type": "code",
   "execution_count": 3,
   "metadata": {},
   "outputs": [],
   "source": [
    "def foo() -> str:\n",
    "    \"\"\"i am hui\"\"\"\n",
    "    return \"hui is me\""
   ]
  },
  {
   "cell_type": "code",
   "execution_count": 5,
   "metadata": {},
   "outputs": [
    {
     "data": {
      "text/plain": [
       "'i am hui'"
      ]
     },
     "execution_count": 5,
     "metadata": {},
     "output_type": "execute_result"
    }
   ],
   "source": [
    "foo.__doc__"
   ]
  },
  {
   "cell_type": "code",
   "execution_count": 9,
   "metadata": {},
   "outputs": [],
   "source": [
    "def min(first, *args) -> int:\n",
    "    res: float = first\n",
    "    for arg in args:\n",
    "        if arg < res:\n",
    "            res = arg\n",
    "    \n",
    "    return res"
   ]
  },
  {
   "cell_type": "code",
   "execution_count": 13,
   "metadata": {},
   "outputs": [
    {
     "data": {
      "text/plain": [
       "0"
      ]
     },
     "execution_count": 13,
     "metadata": {},
     "output_type": "execute_result"
    }
   ],
   "source": [
    "xs = {10,9,8,0}\n",
    "min(*xs)"
   ]
  },
  {
   "cell_type": "code",
   "execution_count": 24,
   "metadata": {},
   "outputs": [],
   "source": [
    "def bounded_min(first, *args, low=float(\"-inf\"), high=float(\"inf\")) -> float:\n",
    "    res: float = high\n",
    "\n",
    "    for arg in (first, ) + args:\n",
    "        if arg < res and low < arg < high:\n",
    "            res = arg\n",
    "    \n",
    "    return res"
   ]
  },
  {
   "cell_type": "code",
   "execution_count": 25,
   "metadata": {},
   "outputs": [
    {
     "data": {
      "text/plain": [
       "120"
      ]
     },
     "execution_count": 25,
     "metadata": {},
     "output_type": "execute_result"
    }
   ],
   "source": [
    "bounded_min(123, 120, 321, 13, low=20, high=125)"
   ]
  },
  {
   "cell_type": "code",
   "execution_count": 16,
   "metadata": {},
   "outputs": [
    {
     "data": {
      "text/plain": [
       "'123'"
      ]
     },
     "execution_count": 16,
     "metadata": {},
     "output_type": "execute_result"
    }
   ],
   "source": [
    "a = (\n",
    "    \"1\"\n",
    "    \"2\"\n",
    "    \"3\"\n",
    ")\n",
    "type(a)\n",
    "a"
   ]
  },
  {
   "cell_type": "code",
   "execution_count": 48,
   "metadata": {},
   "outputs": [],
   "source": [
    "from typing import Iterable, Optional, Any\n",
    "\n",
    "\n",
    "def unique(\n",
    "    iterable: Iterable, \n",
    "    seen: Optional[set[Any]] = None\n",
    ") -> list[Any]:\n",
    "    \n",
    "    acc: list[Any] = []\n",
    "\n",
    "    if seen is None:\n",
    "        seen = set()\n",
    "\n",
    "    for item in iterable:\n",
    "        if item not in seen:\n",
    "            seen.add(item)\n",
    "            acc.append(item)\n",
    "    \n",
    "    return acc"
   ]
  },
  {
   "cell_type": "code",
   "execution_count": 46,
   "metadata": {},
   "outputs": [
    {
     "data": {
      "text/plain": [
       "[]"
      ]
     },
     "execution_count": 46,
     "metadata": {},
     "output_type": "execute_result"
    }
   ],
   "source": [
    "xs: list = [1,2,1,1,2,3,4,5,8,4,4,4,5,6,8,4,7,7]\n",
    "ss: set = {1,2}\n",
    "unique(xs)"
   ]
  },
  {
   "cell_type": "code",
   "execution_count": 2,
   "metadata": {},
   "outputs": [
    {
     "name": "stdout",
     "output_type": "stream",
     "text": [
      "1 2 3 4 5 6\n"
     ]
    }
   ],
   "source": [
    "x, y, z, *i = \"123456\"\n",
    "print(x, y, z, *i)"
   ]
  },
  {
   "cell_type": "code",
   "execution_count": 1,
   "metadata": {},
   "outputs": [],
   "source": [
    "from typing import Callable\n",
    "\n",
    "\n",
    "def make_min(*, low: int, high: int) -> Callable[..., float]:\n",
    "    def inner(first: int, *args: int) -> int:\n",
    "        res = high\n",
    "        for arg in (first, ) + args:\n",
    "            if arg < res and low < arg < high:\n",
    "                res = arg\n",
    "        \n",
    "        return res\n",
    "    return inner"
   ]
  },
  {
   "cell_type": "code",
   "execution_count": 3,
   "metadata": {},
   "outputs": [
    {
     "data": {
      "text/plain": [
       "3"
      ]
     },
     "execution_count": 3,
     "metadata": {},
     "output_type": "execute_result"
    }
   ],
   "source": [
    "bounded_min = make_min(low=2, high=4)\n",
    "bounded_min(1, 2, 3, 4, 5)"
   ]
  },
  {
   "cell_type": "code",
   "execution_count": null,
   "metadata": {},
   "outputs": [],
   "source": [
    "lookatme = 1\n",
    "globals()"
   ]
  },
  {
   "cell_type": "code",
   "execution_count": 7,
   "metadata": {},
   "outputs": [],
   "source": [
    "from typing import Optional, Callable\n",
    "\n",
    "\n",
    "def cell(\n",
    "    value: Optional[int] = None\n",
    ") -> tuple[Callable[[], int], Callable[[int], None]]:\n",
    "    def get():\n",
    "        return value\n",
    "    \n",
    "    def set(update):\n",
    "        nonlocal value\n",
    "        value = update\n",
    " \n",
    "    return get, set"
   ]
  },
  {
   "cell_type": "code",
   "execution_count": 8,
   "metadata": {},
   "outputs": [
    {
     "data": {
      "text/plain": [
       "42"
      ]
     },
     "execution_count": 8,
     "metadata": {},
     "output_type": "execute_result"
    }
   ],
   "source": [
    "get, set = cell()\n",
    "set(42)\n",
    "get()"
   ]
  },
  {
   "cell_type": "code",
   "execution_count": 52,
   "metadata": {},
   "outputs": [
    {
     "data": {
      "text/plain": [
       "[[2, 4, 8, 16, 32, 64, 128],\n",
       " [3, 9, 27, 81, 243, 729, 2187],\n",
       " [4, 16, 64, 256, 1024, 4096, 16384]]"
      ]
     },
     "execution_count": 52,
     "metadata": {},
     "output_type": "execute_result"
    }
   ],
   "source": [
    "# list(map(lambda x, n: x ** n, [2, 3, 4], range(1,8)))\n",
    "# # list(filter(lambda x: x % 3, [1, 9, 4, 16, -1, 2, 5]))\n",
    "# [i for i in [1, 9, 4, 16, -1, 2, 5] if i % 3 != 0]\n",
    "# [x ** n for x, n in zip([2, 3, 4], range(1, 8))]\n",
    "#[[x for x in [2, 3, 4]] ** n for n in range(1, 8)]\n",
    "\n",
    "a: list[list[int]] = [\n",
    "    [i ** j for j in range(1, 8)]\n",
    "    for i in range(2, 5)\n",
    "]\n",
    "a"
   ]
  },
  {
   "cell_type": "code",
   "execution_count": null,
   "metadata": {},
   "outputs": [],
   "source": [
    "glhf"
   ]
  }
 ],
 "metadata": {
  "interpreter": {
   "hash": "356eaede3572ca6cd0847253aac4133cda8267ce60aa4682055f3fd4000e1547"
  },
  "kernelspec": {
   "display_name": "Python 3.10.4 64-bit ('3.10.4')",
   "language": "python",
   "name": "python3"
  },
  "language_info": {
   "codemirror_mode": {
    "name": "ipython",
    "version": 3
   },
   "file_extension": ".py",
   "mimetype": "text/x-python",
   "name": "python",
   "nbconvert_exporter": "python",
   "pygments_lexer": "ipython3",
   "version": "3.10.4"
  },
  "orig_nbformat": 4
 },
 "nbformat": 4,
 "nbformat_minor": 2
}
